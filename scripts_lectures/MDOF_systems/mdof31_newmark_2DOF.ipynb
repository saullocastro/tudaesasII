{
 "cells": [
  {
   "cell_type": "markdown",
   "metadata": {},
   "source": [
    "Defining properties of the 2DOF systems of two springs in series"
   ]
  },
  {
   "cell_type": "code",
   "execution_count": null,
   "metadata": {},
   "outputs": [],
   "source": [
    "import numpy as np\n",
    "import matplotlib.pyplot as plt\n",
    "\n",
    "m1 = 1.\n",
    "m2 = 1.\n",
    "k1 = 1\n",
    "k2 = 1\n",
    "\n",
    "M = np.array([[m1, 0],\n",
    "              [0, m2]])\n",
    "K = np.array([[k1+k2, -k2],\n",
    "              [-k2, k2]])\n",
    "C = np.zeros_like(M) # assuming an undamped system"
   ]
  },
  {
   "cell_type": "markdown",
   "metadata": {},
   "source": [
    "Calculating initial acceleration"
   ]
  },
  {
   "cell_type": "code",
   "execution_count": null,
   "metadata": {
    "scrolled": true
   },
   "outputs": [],
   "source": [
    "u0 = np.array([1, 10])\n",
    "v0 = np.zeros(2)\n",
    "\n",
    "tmax = 25\n",
    "#omegaf = 2*np.pi # rad/s\n",
    "t = np.linspace(0, tmax, 100) # Delta t = 25/100\n",
    "dt = t[1] - t[0]\n",
    "#F = np.vstack([np.zeros_like(t), 10*np.cos(omegaf*t)])\n",
    "F = np.vstack([np.zeros_like(t), np.zeros_like(t)])\n",
    "\n",
    "u = np.zeros((2, t.shape[0]))\n",
    "v = np.zeros((2, t.shape[0]))\n",
    "a = np.zeros((2, t.shape[0]))\n",
    "\n",
    "u[:, 0] = u0\n",
    "v[:, 0] = v0\n",
    "a[:, 0] = np.linalg.solve(M, F[:, 0] - C @ v0 - K @ u0)"
   ]
  },
  {
   "cell_type": "markdown",
   "metadata": {},
   "source": [
    "Direct single-step method"
   ]
  },
  {
   "cell_type": "code",
   "execution_count": null,
   "metadata": {},
   "outputs": [],
   "source": [
    "beta = 1\n",
    "gamma = 0.6\n",
    "for i in range(0, t.shape[0]-1):\n",
    "    B = M + gamma*dt*C + beta*dt**2*K\n",
    "    # predictor\n",
    "    uP = u[:, i] + dt*v[:, i] + dt**2/2*(1 - 2*beta)*a[:, i]\n",
    "    vP = v[:, i] + (1 - gamma)*dt*a[:, i]\n",
    "    b = F[:, i+1] - C@vP - K@uP\n",
    "    \n",
    "    a[:, i+1] = np.linalg.solve(B, b)\n",
    "    \n",
    "    # corrector\n",
    "    u[:, i+1] = uP + beta*dt**2*a[:, i+1]\n",
    "    v[:, i+1] = vP + gamma*dt*a[:, i+1]\n",
    "\n",
    "x1 = u[0, :]\n",
    "x2 = u[1, :]\n",
    "plt.figure()\n",
    "plt.plot(t, x1)\n",
    "plt.xlabel('time')\n",
    "plt.ylabel('$x_1$', rotation='horizontal')\n",
    "plt.show()\n"
   ]
  }
 ],
 "metadata": {
  "kernelspec": {
   "display_name": "Python 3 (ipykernel)",
   "language": "python",
   "name": "python3"
  },
  "language_info": {
   "codemirror_mode": {
    "name": "ipython",
    "version": 3
   },
   "file_extension": ".py",
   "mimetype": "text/x-python",
   "name": "python",
   "nbconvert_exporter": "python",
   "pygments_lexer": "ipython3",
   "version": "3.10.9"
  }
 },
 "nbformat": 4,
 "nbformat_minor": 4
}
