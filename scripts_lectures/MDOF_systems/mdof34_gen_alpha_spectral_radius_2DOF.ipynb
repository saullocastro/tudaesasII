{
 "cells": [
  {
   "cell_type": "markdown",
   "metadata": {},
   "source": [
    "Defining properties of the 2DOF systems of two springs in series"
   ]
  },
  {
   "cell_type": "code",
   "execution_count": null,
   "metadata": {},
   "outputs": [],
   "source": [
    "import numpy as np\n",
    "import matplotlib.pyplot as plt\n",
    "from ipywidgets import interact, FloatSlider\n",
    "\n",
    "\n",
    "m1 = 1.\n",
    "m2 = 1.\n",
    "k1 = 1.e3 # stiff spring\n",
    "k2 = 1.\n",
    "\n",
    "M = np.array([[m1, 0],\n",
    "              [0, m2]])\n",
    "\n",
    "K = np.array([[k1+k2, -k2],\n",
    "              [-k2, k2]])\n",
    "\n",
    "C = np.zeros_like(M)"
   ]
  },
  {
   "cell_type": "markdown",
   "metadata": {},
   "source": [
    "Calculating initial acceleration"
   ]
  },
  {
   "cell_type": "code",
   "execution_count": null,
   "metadata": {
    "scrolled": true
   },
   "outputs": [],
   "source": [
    "u0 = np.array([1, 20])\n",
    "v0 = np.array([0, 0])\n",
    "\n",
    "tmax = 50\n",
    "t = np.linspace(0, tmax, 200) # Delta t = 25/100\n",
    "dt = t[1] - t[0]\n",
    "\n",
    "u = np.zeros((2, t.shape[0]))\n",
    "v = np.zeros((2, t.shape[0]))\n",
    "a = np.zeros((2, t.shape[0]))\n",
    "\n",
    "u[:, 0] = u0\n",
    "v[:, 0] = v0\n",
    "a[:, 0] = np.linalg.solve(M, - C @ v0 - K @ u0)"
   ]
  },
  {
   "cell_type": "markdown",
   "metadata": {},
   "source": [
    "Direct single-step method"
   ]
  },
  {
   "cell_type": "code",
   "execution_count": null,
   "metadata": {},
   "outputs": [],
   "source": [
    "def effect_of_spectral_radius(rho_infty=0.5):\n",
    "#if True:\n",
    "    #rho_infty = 0.5\n",
    "    alpham = (2*rho_infty - 1)/(rho_infty + 1)\n",
    "    alphaf = rho_infty/(rho_infty + 1)\n",
    "    beta = 1/4*(1 + alphaf - alpham)**2\n",
    "    gamma = 1/2 + (alphaf - alpham)\n",
    "    \n",
    "    \n",
    "    for i in range(0, t.shape[0]-1):\n",
    "        B = (1 - alpham)*M + gamma*dt*(1 - alphaf)*C + beta*dt**2*(1 - alphaf)*K\n",
    "        \n",
    "        # predictor\n",
    "        uP = u[:, i] + dt*v[:, i] + dt**2/2*(1 - 2*beta)*a[:, i]\n",
    "        vP = v[:, i] + (1 - gamma)*dt*a[:, i]\n",
    "        \n",
    "        b = - (1 - alphaf)*C@vP - (1 - alphaf)*K@uP - alphaf*K@u[:, i] - alphaf*C@v[:, i] - alpham*M@a[:, i]\n",
    "        \n",
    "        a[:, i+1] = np.linalg.solve(B, b)\n",
    "        \n",
    "        # corrector\n",
    "        u[:, i+1] = uP + beta*dt**2*a[:, i+1]\n",
    "        v[:, i+1] = vP + gamma*dt*a[:, i+1]\n",
    "    \n",
    "    x1 = u[0, :]\n",
    "    x2 = u[1, :]\n",
    "    fig, axes = plt.subplots(ncols=2, figsize=(10, 5))\n",
    "    axes[0].plot(t, x1)\n",
    "    axes[0].set_xlabel('time')\n",
    "    axes[0].set_ylabel('$x_1$', rotation='horizontal')\n",
    "    axes[0].set_ylim(-1, 1)\n",
    "    \n",
    "    axes[1].plot(t, x2)\n",
    "    axes[1].set_xlabel('time')\n",
    "    axes[1].set_ylabel('$x_2$', rotation='horizontal')\n",
    "    axes[1].set_ylim(-20, 20)\n",
    "    #plt.show()\n",
    "\n",
    "\n",
    "interact(effect_of_spectral_radius, rho_infty=FloatSlider(value=0.5, min=0, max=1, step=0.1, \n",
    "                                                          description=r'$\\rho_\\infty$'));"
   ]
  },
  {
   "cell_type": "code",
   "execution_count": null,
   "metadata": {},
   "outputs": [],
   "source": []
  },
  {
   "cell_type": "code",
   "execution_count": null,
   "metadata": {},
   "outputs": [],
   "source": []
  }
 ],
 "metadata": {
  "kernelspec": {
   "display_name": "Python 3 (ipykernel)",
   "language": "python",
   "name": "python3"
  },
  "language_info": {
   "codemirror_mode": {
    "name": "ipython",
    "version": 3
   },
   "file_extension": ".py",
   "mimetype": "text/x-python",
   "name": "python",
   "nbconvert_exporter": "python",
   "pygments_lexer": "ipython3",
   "version": "3.12.4"
  }
 },
 "nbformat": 4,
 "nbformat_minor": 4
}
