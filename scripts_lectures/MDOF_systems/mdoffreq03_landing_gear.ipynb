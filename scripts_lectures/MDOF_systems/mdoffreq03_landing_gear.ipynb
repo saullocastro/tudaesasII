{
 "cells": [
  {
   "cell_type": "code",
   "execution_count": null,
   "metadata": {
    "scrolled": true
   },
   "outputs": [],
   "source": [
    "import sys\n",
    "#NOTE if not properly installed, replace by the absolute path to the root folder of your tudaesasII library\n",
    "sys.path.append(r'../..')\n",
    "\n",
    "import numpy as np\n",
    "from numpy import cos, sin, pi\n",
    "from scipy.linalg import cholesky, eigh\n",
    "\n",
    "from tudaesasII.beam2d import Beam2D, update_K, update_M, DOF, exx\n",
    "\n",
    "\n",
    "# number of nodes\n",
    "n = 301 # keep it odd to have a node at point B\n",
    "# Material Lastrobe Lescalloy\n",
    "E = 203.e9 # Pa\n",
    "rho = 7.83e3 # kg/m3\n",
    "\n",
    "# damping\n",
    "c = 350. # N/(m/s)\n",
    "ku = 5.e7 # N/m\n",
    "kv = 5.e5 # N/m\n",
    "\n",
    "m_wheel = 5 # kg\n",
    "k_wheel = 1.0 # m\n",
    "Izz_wheel = m_wheel*k_wheel**2\n",
    "m_airplane = 200 # kg\n",
    "k_airplane = 5.0 # m\n",
    "Izz_airplane = m_airplane*k_airplane**2\n",
    "\n",
    "a = 2.4\n",
    "b = 1.2\n",
    "beam_base_y = 0.5\n",
    "thetas = np.linspace(pi, 0, n) # from point A to point C\n",
    "R = a*b/np.sqrt((b*cos(thetas))**2 + (a*sin(thetas))**2)\n",
    "x = R*cos(thetas)\n",
    "y = beam_base_y + R*sin(thetas)\n",
    "\n",
    "# cross section properties at given points\n",
    "dy_A = 0.050 # m\n",
    "dz_A = 0.040 # m\n",
    "h_A = 0.003 # m\n",
    "\n",
    "dy_B = 0.100 # m\n",
    "dz_B = 0.080 # m\n",
    "h_B = 0.006 # m\n",
    "\n",
    "dy_C = dy_A\n",
    "dz_C = dz_A\n",
    "h_C = h_A\n",
    "\n",
    "# creating function for sA(t) = sC(t)\n",
    "vertical_velocity = -10\n",
    "v0h = 40 # m/s\n",
    "vfh = 0\n",
    "aBump = 0.010 # m\n",
    "Lr = 200\n",
    "nbumps = 150\n",
    "\n",
    "ac = 1/Lr*1/2*(vfh**2 - v0h**2) # constant deceleration rate\n",
    "tmax = (vfh - v0h)/ac # time until stop\n",
    "print('ac', ac)\n",
    "print('tmax', tmax)\n",
    "dt = 0.001\n",
    "\n",
    "# tapered beam cross section\n",
    "dy = np.concatenate((\n",
    "    np.linspace(dy_A, dy_B, n//2, endpoint=False),\n",
    "    np.linspace(dy_B, dy_C, n//2+1, endpoint=True)\n",
    "    ))\n",
    "dz = np.concatenate((\n",
    "    np.linspace(dz_A, dz_B, n//2, endpoint=False),\n",
    "    np.linspace(dz_B, dz_C, n//2+1, endpoint=True)\n",
    "    ))\n",
    "h = np.concatenate((\n",
    "    np.linspace(h_A, h_B, n//2, endpoint=False),\n",
    "    np.linspace(h_B, h_C, n//2+1, endpoint=True)\n",
    "    ))\n",
    "\n",
    "A = 2*dy*h + (dz - 2*h)*h*2\n",
    "Izz = 1/12*dz*dy**3 - 1/12*(dz-2*h)*(dy-2*h)**3\n",
    "\n",
    "# getting nodes\n",
    "x = np.concatenate(([-a], x, [+a])) # adding x coord of wheel nodes\n",
    "y = np.concatenate(([0], y, [0])) # assing y coord of wheel nodes\n",
    "ncoords = np.vstack((x ,y)).T\n",
    "nids = 1000000 + np.arange(ncoords.shape[0])\n",
    "nid_pos = dict(zip(nids, np.arange(len(nids))))\n",
    "\n",
    "# nids 1, 2, 3, 4, 5, ....,  n-2, n-1, n (the last is the aicraft)\n",
    "\n",
    "#from 2 to n-2\n",
    "n1s = nids[1:-2] # discounting wheel nodes\n",
    "#from 3 to n-1\n",
    "n2s = nids[2:-1]\n",
    "\n",
    "size = (n+2)*DOF # n+2 to account for the two wheel nodes\n",
    "K = np.zeros((size, size))\n",
    "M = np.zeros((size, size))\n",
    "C = np.zeros((size, size))\n",
    "\n",
    "beams = []\n",
    "for n1, n2 in zip(n1s, n2s):\n",
    "    pos1 = nid_pos[n1]\n",
    "    pos2 = nid_pos[n2]\n",
    "    x1, y1 = ncoords[pos1]\n",
    "    x2, y2 = ncoords[pos2]\n",
    "    A1 = A[pos1-1]\n",
    "    A2 = A[pos2-1]\n",
    "    Izz1 = Izz[pos1-1]\n",
    "    Izz2 = Izz[pos2-1]\n",
    "    beam = Beam2D()\n",
    "    beam.interpolation = 'legendre'\n",
    "    beam.n1 = n1\n",
    "    beam.n2 = n2\n",
    "    beam.E = E\n",
    "    beam.rho = rho\n",
    "    beam.A1, beam.A2 = A1, A2\n",
    "    beam.Izz1, beam.Izz2 = Izz1, Izz2\n",
    "    update_K(beam, nid_pos, ncoords, K)\n",
    "    update_M(beam, nid_pos, M, lumped=False)\n",
    "    beams.append(beam)\n",
    "\n",
    "# adding effect of concentrated aircraft mass into M\n",
    "pos_aircraft = np.where(np.isclose(y,  b + beam_base_y))[0][0]\n",
    "\n",
    "# Useful DOF list\n",
    "# [0, 1, 2] left wheel, ...\n",
    "# [DOF*pos_aircraft+0, DOF*pos_aircraft+1, DOF*pos_aircraft+1] aircraft\n",
    "# [-3, -2, -1] right wheel\n",
    "\n",
    "M[DOF*pos_aircraft+0, DOF*pos_aircraft+0] += m_airplane # u displacement\n",
    "M[DOF*pos_aircraft+1, DOF*pos_aircraft+1] += m_airplane # v displacement\n",
    "M[DOF*pos_aircraft+2, DOF*pos_aircraft+2] += Izz_airplane # beta rotation\n",
    "\n",
    "# adding effect of dashpot on wheel connections\n",
    "pos_wheel_left1 = np.where(np.isclose(x,  -a) & np.isclose(y,  0))[0][0] # node at left wheel\n",
    "pos_wheel_left2 = np.where(np.isclose(x,  -a) & np.isclose(y,  beam_base_y))[0][0] # left extremity beam\n",
    "pos_wheel_right1 = np.where(np.isclose(x,  a) & np.isclose(y,  0))[0][0] # node at right whell\n",
    "pos_wheel_right2 = np.where(np.isclose(x,  a) & np.isclose(y,  beam_base_y))[0][0] # right extremity beam\n",
    "\n",
    "# left dashpot stiffness\n",
    "K[DOF*pos_wheel_left1+0, DOF*pos_wheel_left1+0] += +ku\n",
    "K[DOF*pos_wheel_left2+0, DOF*pos_wheel_left2+0] += +ku\n",
    "K[DOF*pos_wheel_left1+0, DOF*pos_wheel_left2+0] += -ku\n",
    "K[DOF*pos_wheel_left2+0, DOF*pos_wheel_left1+0] += -ku\n",
    "K[DOF*pos_wheel_left1+1, DOF*pos_wheel_left1+1] += +kv\n",
    "K[DOF*pos_wheel_left2+1, DOF*pos_wheel_left2+1] += +kv\n",
    "K[DOF*pos_wheel_left1+1, DOF*pos_wheel_left2+1] += -kv\n",
    "K[DOF*pos_wheel_left2+1, DOF*pos_wheel_left1+1] += -kv\n",
    "\n",
    "# left dashpot damping\n",
    "C[DOF*pos_wheel_left1+1, DOF*pos_wheel_left1+1] += +c\n",
    "C[DOF*pos_wheel_left2+1, DOF*pos_wheel_left2+1] += +c\n",
    "C[DOF*pos_wheel_left1+1, DOF*pos_wheel_left2+1] += -c\n",
    "C[DOF*pos_wheel_left2+1, DOF*pos_wheel_left1+1] += -c\n",
    "\n",
    "# right dashpot stiffness\n",
    "K[DOF*pos_wheel_right1+0, DOF*pos_wheel_right1+0] += +ku\n",
    "K[DOF*pos_wheel_right2+0, DOF*pos_wheel_right2+0] += +ku\n",
    "K[DOF*pos_wheel_right1+0, DOF*pos_wheel_right2+0] += -ku\n",
    "K[DOF*pos_wheel_right2+0, DOF*pos_wheel_right1+0] += -ku\n",
    "K[DOF*pos_wheel_right1+1, DOF*pos_wheel_right1+1] += +kv\n",
    "K[DOF*pos_wheel_right2+1, DOF*pos_wheel_right2+1] += +kv\n",
    "K[DOF*pos_wheel_right1+1, DOF*pos_wheel_right2+1] += -kv\n",
    "K[DOF*pos_wheel_right2+1, DOF*pos_wheel_right1+1] += -kv\n",
    "\n",
    "# right dashpot damping\n",
    "C[DOF*pos_wheel_right1+1, DOF*pos_wheel_right1+1] += +c\n",
    "C[DOF*pos_wheel_right2+1, DOF*pos_wheel_right2+1] += +c\n",
    "C[DOF*pos_wheel_right1+1, DOF*pos_wheel_right2+1] += -c\n",
    "C[DOF*pos_wheel_right2+1, DOF*pos_wheel_right1+1] += -c\n",
    "\n",
    "# mass of left wheel\n",
    "M[DOF*pos_wheel_left1+0, DOF*pos_wheel_left1+0] += m_wheel # u displacement\n",
    "M[DOF*pos_wheel_left1+1, DOF*pos_wheel_left1+1] += m_wheel # v displacement\n",
    "M[DOF*pos_wheel_left1+2, DOF*pos_wheel_left1+2] += Izz_wheel # beta rotation\n",
    "# mass of right wheel\n",
    "M[DOF*pos_wheel_right1+0, DOF*pos_wheel_right1+0] += m_wheel # u displacement\n",
    "M[DOF*pos_wheel_right1+1, DOF*pos_wheel_right1+1] += m_wheel # v displacement\n",
    "M[DOF*pos_wheel_right1+2, DOF*pos_wheel_right1+2] += Izz_wheel # beta rotation\n",
    "\n",
    "assert np.allclose(K, K.T)\n",
    "assert np.allclose(M, M.T)\n",
    "assert np.allclose(C, C.T)\n",
    "\n",
    "# NOTE calculating total mass of the system\n",
    "unit_translation = np.zeros(size)\n",
    "unit_translation[1::DOF] = 1\n",
    "mass = unit_translation.T @ M @ unit_translation\n",
    "\n",
    "# applying boundary conditions\n",
    "# vA = vC = 0\n",
    "# uB = 0\n",
    "known_DOFs = [\n",
    "        DOF*pos_wheel_left1+1,  # v displacement on left wheel (will be prescribed from soil roughness)\n",
    "        DOF*pos_wheel_left1+2,  # beta rotation on left wheel (set to zero)\n",
    "        DOF*pos_aircraft+0,     # u displacement on aircraft node (set to zero)\n",
    "        DOF*pos_wheel_right1+1, # v displacement on right wheel (will be prescribed from soil roughness)\n",
    "        DOF*pos_wheel_right1+2, # beta rotation on right wheel (set to zero)\n",
    "        ]\n",
    "bu = np.logical_not(np.in1d(np.arange(M.shape[0]), known_DOFs))\n",
    "bk = np.in1d(np.arange(M.shape[0]), known_DOFs)\n",
    "\n",
    "Muu = M[bu, :][:, bu]\n",
    "Mku = M[bk, :][:, bu]\n",
    "Muk = M[bu, :][:, bk]\n",
    "Mkk = M[bk, :][:, bk]\n",
    "\n",
    "Kuu = K[bu, :][:, bu]\n",
    "Kku = K[bk, :][:, bu]\n",
    "Kuk = K[bu, :][:, bk]\n",
    "Kkk = K[bk, :][:, bk]\n",
    "\n",
    "Cuu = C[bu, :][:, bu]\n",
    "Cku = C[bk, :][:, bu]\n",
    "Cuk = C[bu, :][:, bk]\n",
    "Ckk = C[bk, :][:, bk]\n",
    "\n",
    "L = cholesky(M, lower=True)\n",
    "Luu = L[bu, :][:, bu]\n",
    "Linv = np.linalg.inv(L)\n",
    "Linvuu = Linv[bu, :][:, bu]\n",
    "\n",
    "Ktilde = Linv @ K @ Linv.T\n",
    "Ktildeuu = Ktilde[bu, :][:, bu]\n",
    "\n",
    "p = 4 # NOTE number of selected modes for the ROM\n",
    "gamma, Vu = eigh(Ktildeuu, subset_by_index=(0, p-1)) # already gives V[:, i] normalized to 1\n",
    "omegan = gamma**0.5\n",
    "eigmodes = np.zeros((size, len(omegan)))\n",
    "for i in range(eigmodes.shape[1]):\n",
    "    eigmodes[bu, i] = Linvuu.T @ Vu[:, i]\n",
    "\n",
    "\n",
    "V = np.zeros((size, p))\n",
    "V[bu] = Vu\n",
    "\n",
    "P = np.zeros((size, p))\n",
    "P[bu] = Vu\n",
    "Pu = P[bu]\n",
    "\n",
    "# NOTE using the definition of the modal damping matrix\n",
    "Dm = P.T @ Linv @ C @ Linv.T @ P\n",
    "\n",
    "# NOTE obtaining a vector with approximated modal damping ratios from the modal\n",
    "# damping matrix\n",
    "zeta = Dm.diagonal()/(2*omegan)\n",
    "\n",
    "omegad = omegan*np.sqrt(1 - zeta**2)\n",
    "print('Natural frequencies', omegan[:10])\n",
    "print('Natural frequencies Hz', omegan[:10]/2/pi)\n",
    "print('Damped natural frequencies', omegad[:10])\n",
    "\n",
    "U = Linv.T @ V\n"
   ]
  },
  {
   "cell_type": "markdown",
   "metadata": {},
   "source": [
    "Prescribed ground excitation\n",
    "==="
   ]
  },
  {
   "cell_type": "markdown",
   "metadata": {},
   "source": [
    "Displacement at wheels\n",
    "---"
   ]
  },
  {
   "cell_type": "code",
   "execution_count": null,
   "metadata": {
    "scrolled": true
   },
   "outputs": [],
   "source": [
    "import matplotlib.pyplot as plt\n",
    "\n",
    "# creating function for sB(t)\n",
    "vertical_velocity = -10\n",
    "v0h = 40 # m/s\n",
    "vfh = 0\n",
    "aBump = 0.010 # m\n",
    "Lr = 200\n",
    "nbumps = 150\n",
    "\n",
    "ac = 1/Lr*1/2*(vfh**2 - v0h**2) # constant deceleration rate\n",
    "tmax = (vfh - v0h)/ac # time until stop\n",
    "dt = 0.001\n",
    "\n",
    "t = np.linspace(0, tmax, int(tmax/dt))\n",
    "Nsamples = t.size\n",
    "\n",
    "# displacements at B as a function of time\n",
    "s = v0h*t + 1/2*ac*t**2\n",
    "sA_t = sC_t = aBump*sin(2*nbumps*pi*s/Lr)\n",
    "\n",
    "plt.figure(figsize=(15,5))\n",
    "plt.plot(t, sA_t)\n",
    "plt.xlabel('time [s]')\n",
    "plt.ylabel('displacement at wheels [m]')\n",
    "plt.show()\n",
    "\n",
    "sA_f = np.fft.rfft(sA_t)/(Nsamples//2)\n",
    "freqs_Hz = np.fft.rfftfreq(Nsamples, d=dt)\n",
    "plt.figure(figsize=(15,5))\n",
    "plt.plot(freqs_Hz, np.abs(sA_f))\n",
    "plt.xlabel('frequency [Hz]')\n",
    "plt.ylabel('displacement at wheels [m]')\n",
    "plt.xlim(0, 35)\n",
    "plt.show()"
   ]
  },
  {
   "cell_type": "markdown",
   "metadata": {},
   "source": [
    "Oscillatig velocity of the wheels\n",
    "---"
   ]
  },
  {
   "cell_type": "code",
   "execution_count": null,
   "metadata": {},
   "outputs": [],
   "source": [
    "sAdot_t = sCdot_t = 2.0*pi*aBump*nbumps*(ac*t + v0h)*cos(pi*nbumps*t*(ac*t + 2*v0h)/Lr)/Lr\n",
    "plt.figure(figsize=(15,5))\n",
    "plt.plot(t, sAdot_t)\n",
    "plt.xlabel('time [s]')\n",
    "plt.ylabel('Oscillating velocity of wheels [$m\\ /\\ s$]')\n",
    "\n",
    "sAdot_f = np.fft.rfft(sAdot_t)/(Nsamples//2)\n",
    "freqs_Hz = np.fft.rfftfreq(Nsamples, d=dt)\n",
    "plt.figure(figsize=(15,5))\n",
    "plt.plot(freqs_Hz, np.abs(sAdot_f))\n",
    "plt.xlabel('frequency [Hz]')\n",
    "plt.ylabel('velocity at wheels [$m\\ /\\ s$]')\n",
    "plt.xlim(0, 35)\n",
    "plt.show()"
   ]
  },
  {
   "cell_type": "markdown",
   "metadata": {},
   "source": [
    "Oscillating acceleration of wheels\n",
    "---"
   ]
  },
  {
   "cell_type": "code",
   "execution_count": null,
   "metadata": {},
   "outputs": [],
   "source": [
    "sAddot_t = sCddot_t = pi*aBump*nbumps*(2.0*Lr*ac*cos(pi*nbumps*t*(ac*t + 2*v0h)/Lr) -\n",
    "        4*pi*nbumps*(1.0*ac*t + v0h)**2*sin(pi*nbumps*t*(ac*t +\n",
    "            2*v0h)/Lr))/Lr**2\n",
    "plt.figure(figsize=(15,5))\n",
    "plt.plot(t, sAddot_t)\n",
    "plt.xlabel('time [s]')\n",
    "plt.ylabel('acceleration at wheels [$m\\ /\\ s^2$]')\n",
    "\n",
    "plt.figure(figsize=(15,5))\n",
    "sAddot_f = np.fft.rfft(sAddot_t)/(Nsamples//2)\n",
    "freqs_Hz = np.fft.rfftfreq(Nsamples, d=dt)\n",
    "plt.plot(freqs_Hz, np.abs(sAddot_f))\n",
    "plt.xlabel('frequency [Hz]')\n",
    "plt.ylabel('acceleration at wheels [$m\\ /\\ s^2$]')\n",
    "plt.xlim(0, 35)\n",
    "plt.show()"
   ]
  },
  {
   "cell_type": "code",
   "execution_count": null,
   "metadata": {},
   "outputs": [],
   "source": [
    "# NOTE using the definition of the modal damping matrix\n",
    "Dm = P.T @ Linv @ C @ Linv.T @ P"
   ]
  },
  {
   "cell_type": "markdown",
   "metadata": {},
   "source": [
    "Modal forces in time domain\n",
    "---"
   ]
  },
  {
   "cell_type": "code",
   "execution_count": null,
   "metadata": {},
   "outputs": [],
   "source": [
    "# gravity acceleration\n",
    "# known_ind = [0, 2, (K.shape[0]-1)-1]\n",
    "# into uu\n",
    "g = -9.81 #m/s**2\n",
    "d2ugdt2 = np.zeros((size, len(t)))\n",
    "d2ugdt2[1::DOF] = g\n",
    "\n",
    "# force due to gravity\n",
    "Fg = M @ d2ugdt2\n",
    "\n",
    "# displacement vector of known dofs\n",
    "uk = np.zeros((len(known_DOFs), len(t)))\n",
    "uk[0] = sA_t # imposed vertical displ at A\n",
    "uk[3] = sC_t # imposed vertical displ at C\n",
    "\n",
    "# velocity vector of known dofs\n",
    "ukdot = np.zeros_like(uk)\n",
    "ukdot[0] = sAdot_t\n",
    "ukdot[3] = sCdot_t\n",
    "\n",
    "# acceleration vector of known dofs\n",
    "ukddot = np.zeros_like(uk)\n",
    "ukddot[0] = sAddot_t\n",
    "ukddot[3] = sCddot_t\n",
    "\n",
    "# force from prescribed displacements, velocities and accelerations \n",
    "Fk = Fg[bu] - Muk @ ukddot - Cuk @ ukdot - Kuk @ uk\n",
    "\n",
    "# calculating modal forces\n",
    "fm_t = Pu.T @ Linvuu @ Fk"
   ]
  },
  {
   "cell_type": "markdown",
   "metadata": {},
   "source": [
    "Plotting modal forces in time domain\n",
    "---"
   ]
  },
  {
   "cell_type": "code",
   "execution_count": null,
   "metadata": {},
   "outputs": [],
   "source": [
    "for i in range(p):\n",
    "    plt.cla()\n",
    "    plt.plot(t, fm_t[i])\n",
    "    plt.xlabel('time [s]')\n",
    "    plt.ylabel('modal force %d [$N$]' % (i+1))\n",
    "    plt.show()"
   ]
  },
  {
   "cell_type": "markdown",
   "metadata": {},
   "source": [
    "Homogeneous solution in time domain\n",
    "==="
   ]
  },
  {
   "cell_type": "code",
   "execution_count": null,
   "metadata": {},
   "outputs": [],
   "source": [
    "u0 = np.zeros(size)\n",
    "v0 = np.zeros(size)\n",
    "v0[1::DOF] = vertical_velocity # m/s\n",
    "\n",
    "r0 = Pu.T @ Luu.T @ u0[bu]\n",
    "rdot0 = Pu.T @ Luu.T @ v0[bu]\n",
    "\n",
    "omegad = omegan*np.sqrt(1 - zeta**2)\n",
    "on = omegan[:, None]\n",
    "od = omegan*np.sqrt(1 - zeta**2)\n",
    "od = od[:, None]\n",
    "\n",
    "rh_t = np.exp(-zeta[:, None]*on*t)*(r0[:, None]*cos(od*t) +\n",
    "    (rdot0[:, None] + zeta[:, None]*on*r0[:, None])*sin(od*t)/od)\n"
   ]
  },
  {
   "cell_type": "markdown",
   "metadata": {},
   "source": [
    "Particular solution\n",
    "==="
   ]
  },
  {
   "cell_type": "markdown",
   "metadata": {},
   "source": [
    "Fourier transform: modal forces to frequency domain\n",
    "---"
   ]
  },
  {
   "cell_type": "code",
   "execution_count": null,
   "metadata": {},
   "outputs": [],
   "source": [
    "freqs_Hz = np.fft.rfftfreq(Nsamples, d=dt)\n",
    "freqs_rad = freqs_Hz*2*pi\n",
    "fm_f = np.fft.rfft(fm_t, axis=1)/(Nsamples//2)"
   ]
  },
  {
   "cell_type": "markdown",
   "metadata": {},
   "source": [
    "Plotting modal forces in frequency domain\n",
    "---"
   ]
  },
  {
   "cell_type": "code",
   "execution_count": null,
   "metadata": {},
   "outputs": [],
   "source": [
    "for i in range(p):\n",
    "    plt.cla()\n",
    "    plt.plot(freqs_Hz.real, fm_f[i])\n",
    "    plt.xlim(0, 35)\n",
    "    plt.xlabel('frequency [Hz]')\n",
    "    plt.ylabel('modal force [$N$]')\n",
    "    plt.show()"
   ]
  },
  {
   "cell_type": "markdown",
   "metadata": {},
   "source": [
    "Frequency Response Function\n",
    "---"
   ]
  },
  {
   "cell_type": "code",
   "execution_count": null,
   "metadata": {},
   "outputs": [],
   "source": [
    "def H(zeta, omegan, omegaf):\n",
    "    \"\"\"NOTE: all frequencies must be in rad/s\n",
    "    \"\"\"\n",
    "    return ((omegan**2 - omegaf**2) - 1j*(2*zeta*omegan*omegaf))/((omegan**2 - omegaf**2)**2 + (2*zeta*omegan*omegaf)**2)\n"
   ]
  },
  {
   "cell_type": "markdown",
   "metadata": {},
   "source": [
    "Calculating modal displacements in the frequency domain\n",
    "---"
   ]
  },
  {
   "cell_type": "code",
   "execution_count": null,
   "metadata": {},
   "outputs": [],
   "source": [
    "r_f = H(zeta[:, None], omegan[:, None], freqs_rad)*fm_f"
   ]
  },
  {
   "cell_type": "markdown",
   "metadata": {},
   "source": [
    "Inverse Fourier transform: modal displacement to time domain\n",
    "---"
   ]
  },
  {
   "cell_type": "code",
   "execution_count": null,
   "metadata": {},
   "outputs": [],
   "source": [
    "rp_t = np.fft.irfft(r_f*(Nsamples//2), n=Nsamples)"
   ]
  },
  {
   "cell_type": "markdown",
   "metadata": {},
   "source": [
    "Superimposing with homogeneous solution in time domain\n",
    "---"
   ]
  },
  {
   "cell_type": "code",
   "execution_count": null,
   "metadata": {},
   "outputs": [],
   "source": [
    "r_t = rh_t + rp_t"
   ]
  },
  {
   "cell_type": "markdown",
   "metadata": {},
   "source": [
    "Calculating displacements in the physical coordinates in time domain\n",
    "---"
   ]
  },
  {
   "cell_type": "code",
   "execution_count": null,
   "metadata": {},
   "outputs": [],
   "source": [
    "uu_t = Linvuu.T @ Pu @ r_t\n",
    "\n",
    "u_t = np.zeros((size, Nsamples))\n",
    "u_t[bu] = uu_t"
   ]
  },
  {
   "cell_type": "markdown",
   "metadata": {},
   "source": [
    "Calculating stresses\n",
    "---"
   ]
  },
  {
   "cell_type": "code",
   "execution_count": null,
   "metadata": {},
   "outputs": [],
   "source": [
    "# stresses at A\n",
    "uA = u_t[3:9, :]\n",
    "beamA = beams[0]\n",
    "plt.figure(figsize=(15, 6))\n",
    "exx_bot_A = exx(beamA, -dy_A/2, -1, *uA)\n",
    "exx_top_A = exx(beamA, +dy_A/2, -1, *uA)\n",
    "sigma_bot_A = E*exx_bot_A\n",
    "sigma_top_A = E*exx_top_A\n",
    "plt.plot(t, sigma_bot_A, label='${\\sigma_{xx}}_{bot}$')\n",
    "plt.plot(t, sigma_top_A, label='${\\sigma_{xx}}_{top}$')\n",
    "plt.xlabel('time [s]')\n",
    "plt.ylabel('Stresses at A [Pa]')\n",
    "plt.legend()\n",
    "\n",
    "plt.figure(figsize=(15, 6))\n",
    "tzoom = 1\n",
    "check = t <= tzoom\n",
    "plt.plot(t[check], sigma_bot_A[check], label='${\\sigma_{xx}}_{bot}$')\n",
    "plt.plot(t[check], sigma_top_A[check], label='${\\sigma_{xx}}_{top}$')\n",
    "plt.xlabel('time [s]')\n",
    "plt.ylabel('Stresses at A [Pa]')\n",
    "plt.legend()\n",
    "plt.show()"
   ]
  },
  {
   "cell_type": "markdown",
   "metadata": {},
   "source": [
    "Calculating the reaction forces\n",
    "---"
   ]
  },
  {
   "cell_type": "code",
   "execution_count": null,
   "metadata": {},
   "outputs": [],
   "source": [
    "Kku = K[bk, :][:, bu]\n",
    "Kkk = K[bk, :][:, bk]\n",
    "\n",
    "Fk = - Kku @ u_t[bu] - Kkk @ u_t[bk] # TODO add influence of massa and damping\n",
    "\n",
    "plt.figure(figsize=(15, 6))\n",
    "plt.plot(t, Fk[0])\n",
    "plt.xlabel('time [s]')\n",
    "plt.ylabel('Reaction force at wheels [$N$]')\n",
    "plt.legend()"
   ]
  }
 ],
 "metadata": {
  "kernelspec": {
   "display_name": "Python 3 (ipykernel)",
   "language": "python",
   "name": "python3"
  },
  "language_info": {
   "codemirror_mode": {
    "name": "ipython",
    "version": 3
   },
   "file_extension": ".py",
   "mimetype": "text/x-python",
   "name": "python",
   "nbconvert_exporter": "python",
   "pygments_lexer": "ipython3",
   "version": "3.10.9"
  }
 },
 "nbformat": 4,
 "nbformat_minor": 4
}
