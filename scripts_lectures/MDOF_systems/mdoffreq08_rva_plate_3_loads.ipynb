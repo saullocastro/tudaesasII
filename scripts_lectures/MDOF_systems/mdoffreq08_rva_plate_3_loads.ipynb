{
 "cells": [
  {
   "cell_type": "markdown",
   "metadata": {},
   "source": [
    "Simply-supported plate undergoing random vibration\n",
    "===\n",
    "Defining model\n",
    "---"
   ]
  },
  {
   "cell_type": "code",
   "execution_count": null,
   "metadata": {},
   "outputs": [],
   "source": [
    "import sys\n",
    "sys.path.append('../..')\n",
    "import numpy as np\n",
    "from numpy import isclose, pi\n",
    "from scipy.linalg import cholesky, eigh\n",
    "from composites import isotropic_plate\n",
    "\n",
    "from tudaesasII.quad4r import Quad4R, update_K, update_M, DOF, calc_stress\n",
    "\n",
    "a = 3.\n",
    "b = 2\n",
    "nx = 21\n",
    "ny = 21\n",
    "\n",
    "xtmp = np.linspace(0, a, nx)\n",
    "ytmp = np.linspace(0, b, ny)\n",
    "xmesh, ymesh = np.meshgrid(xtmp, ytmp)\n",
    "ncoords = np.vstack((xmesh.T.flatten(), ymesh.T.flatten())).T\n",
    "x = ncoords[:, 0]\n",
    "y = ncoords[:, 1]\n",
    "\n",
    "nids = 1 + np.arange(ncoords.shape[0])\n",
    "nid_pos = dict(zip(nids, np.arange(len(nids))))\n",
    "nids_mesh = nids.reshape(nx, ny)\n",
    "n1s = nids_mesh[:-1, :-1].flatten()\n",
    "n2s = nids_mesh[1:, :-1].flatten()\n",
    "n3s = nids_mesh[1:, 1:].flatten()\n",
    "n4s = nids_mesh[:-1, 1:].flatten()\n",
    "\n",
    "#plt.plot(x, y, 'o')\n",
    "#plt.gca().set_aspect('equal')\n",
    "#plt.show()\n",
    "\n",
    "E = 70e9 # Pa\n",
    "nu = 0.33\n",
    "rho = 2.7e3 # kg/m3\n",
    "thickness = 0.001 # m\n",
    "plate = isotropic_plate(thickness=thickness, E=E, nu=nu, calc_scf=True)\n",
    "\n",
    "Nmdof = DOF*len(ncoords)\n",
    "\n",
    "K = np.zeros((Nmdof, Nmdof))\n",
    "M = np.zeros((Nmdof, Nmdof))\n",
    "\n",
    "quads = []\n",
    "for n1, n2, n3, n4 in zip(n1s, n2s, n3s, n4s):\n",
    "    pos1 = nid_pos[n1]\n",
    "    pos2 = nid_pos[n2]\n",
    "    pos3 = nid_pos[n3]\n",
    "    pos4 = nid_pos[n4]\n",
    "    r1 = ncoords[pos1, :2]\n",
    "    r2 = ncoords[pos2, :2]\n",
    "    r3 = ncoords[pos3, :2]\n",
    "    normal = np.cross(r2 - r1, r3 - r2)\n",
    "    assert normal > 0 # guaranteeing that all elements have CCW positive normal\n",
    "    quad = Quad4R()\n",
    "    quad.n1 = n1\n",
    "    quad.n2 = n2\n",
    "    quad.n3 = n3\n",
    "    quad.n4 = n4\n",
    "    quad.rho = rho\n",
    "    quad.scf13 = plate.scf_k13\n",
    "    quad.scf23 = plate.scf_k23\n",
    "    quad.h = thickness\n",
    "    quad.ABDE = plate.ABDE\n",
    "    update_K(quad, nid_pos, ncoords[:, :2], K)\n",
    "    update_M(quad, nid_pos, ncoords[:, :2], M, lumped=False)\n",
    "    quads.append(quad)\n",
    "    \n",
    "# applying boundary conditions\n",
    "# simply supported\n",
    "bk = np.zeros(Nmdof, dtype=bool) #array to store known DOFs\n",
    "edges = isclose(x, 0.) | np.isclose(x, a) | np.isclose(y, 0) | np.isclose(y, b)\n",
    "bk[0::DOF][edges] = True\n",
    "bk[1::DOF][edges] = True\n",
    "bk[2::DOF][edges] = True\n",
    "\n",
    "bu = ~bk # same as np.logical_not, defining unknown DOFs\n",
    "\n",
    "# sub-matrices corresponding to unknown DOFs\n",
    "Kuu = K[bu, :][:, bu]\n",
    "Muu = M[bu, :][:, bu]\n",
    "\n",
    "L = cholesky(M, lower=True)\n",
    "Linv = np.linalg.inv(L)\n",
    "\n",
    "Ktilde = Linv @ K @ Linv.T\n",
    "Ktildeuu = Ktilde[bu, :][:, bu]\n",
    "\n",
    "num_modes = 35\n",
    "V = np.zeros((Nmdof, num_modes))\n",
    "eigvals, Vu = eigh(Ktildeuu, subset_by_index=[0, num_modes-1])\n",
    "omegans = eigvals**0.5\n",
    "V[bu] = Vu\n",
    "P = V\n",
    "print('Natural frequencies [rad/s]', omegans)\n",
    "\n"
   ]
  },
  {
   "cell_type": "markdown",
   "metadata": {},
   "source": [
    "Defining the three loads\n",
    "---\n",
    "F1 -> moment in the xz plane\n",
    "\n",
    "F2 -> moment in the yz plane\n",
    "\n",
    "F3 -> normal pressure"
   ]
  },
  {
   "cell_type": "code",
   "execution_count": null,
   "metadata": {
    "scrolled": true
   },
   "outputs": [],
   "source": [
    "# NOTE applying F1 at physical DOFs\n",
    "F1 = np.zeros(Nmdof, dtype=np.complex128)\n",
    "\n",
    "unitary_load_1 = 1.\n",
    "\n",
    "left_mid_nodes = isclose(x, 0) & ~isclose(y, 0) & ~isclose(y, b)\n",
    "left_corners = isclose(x, 0) & (isclose(y, 0) | isclose(y, b))\n",
    "right_mid_nodes = isclose(x, a) & ~isclose(y, 0) & ~isclose(y, b)\n",
    "right_corners = isclose(x, a) & (isclose(y, 0) | isclose(y, b))\n",
    "F1[3::DOF][left_mid_nodes] = -unitary_load_1/(ny - 1)\n",
    "F1[3::DOF][left_corners] = -unitary_load_1/(ny - 1)/2\n",
    "F1[3::DOF][right_mid_nodes] = unitary_load_1/(ny - 1)\n",
    "F1[3::DOF][right_corners] = unitary_load_1/(ny - 1)/2\n",
    "\n",
    "# NOTE applying F2 at physical DOFs\n",
    "F2 = np.zeros(Nmdof, dtype=np.complex128)\n",
    "\n",
    "unitary_load_2 =  1.\n",
    "\n",
    "lower_mid_nodes = isclose(y, 0) & ~isclose(x, 0) & ~isclose(x, a)\n",
    "lower_corners = isclose(y, 0) & (isclose(x, 0) | isclose(x, a))\n",
    "upper_mid_nodes = isclose(y, b) & ~isclose(x, 0) & ~isclose(x, a)\n",
    "upper_corners = isclose(y, b) & (isclose(x, 0) | isclose(x, a))\n",
    "F2[4::DOF][lower_mid_nodes] = -unitary_load_2/(nx - 1)\n",
    "F2[4::DOF][lower_corners] = -unitary_load_2/(nx - 1)/2\n",
    "F2[4::DOF][upper_mid_nodes] = unitary_load_2/(nx - 1)\n",
    "F2[4::DOF][upper_corners] = unitary_load_2/(nx - 1)/2\n",
    "\n",
    "\n",
    "# NOTE applying F3 at physical DOFs\n",
    "F3 = np.zeros(Nmdof, dtype=np.complex128)\n",
    "\n",
    "unitary_load_3 = 1. #pressure \n",
    "\n",
    "cg_elem = []\n",
    "for quad in quads:\n",
    "    pos1 = nid_pos[quad.n1]\n",
    "    pos2 = nid_pos[quad.n2]\n",
    "    pos3 = nid_pos[quad.n3]\n",
    "    pos4 = nid_pos[quad.n4]\n",
    "    r1 = ncoords[pos1, :2]\n",
    "    r2 = ncoords[pos2, :2]\n",
    "    r3 = ncoords[pos3, :2]\n",
    "    r4 = ncoords[pos4, :2]\n",
    "    rc = (r1 + r2 + r3 + r4)/4\n",
    "    cg_elem.append(rc)\n",
    "    r12c = (r2 + r1)/2\n",
    "    r23c = (r3 + r2)/2\n",
    "    r34c = (r4 + r3)/2\n",
    "    r41c = (r1 + r4)/2\n",
    "    def area_i(ra, rb, rc, rd):\n",
    "        return np.cross(rb - ra, rc - ra)/2 + np.cross(rc - ra, rd - ra)/2\n",
    "    area1 = area_i(r1, r12c, rc, r41c)\n",
    "    area2 = area_i(r12c, r2, r23c, rc)\n",
    "    area3 = area_i(rc, r23c, r3, r34c)\n",
    "    area4 = area_i(r41c, rc, r34c, r4)\n",
    "    load1 = unitary_load_3 * area1\n",
    "    load2 = unitary_load_3 * area2\n",
    "    load3 = unitary_load_3 * area3\n",
    "    load4 = unitary_load_3 * area4\n",
    "    area = np.cross(r2 - r1, r3 - r1)/2 + np.cross(r3 - r1, r4 - r1)/2\n",
    "    assert np.isclose(area, area1 + area2 + area3 + area4)\n",
    "    \n",
    "    F3[pos1*DOF+2] += load1\n",
    "    F3[pos2*DOF+2] += load2\n",
    "    F3[pos3*DOF+2] += load3\n",
    "    F3[pos4*DOF+2] += load4\n"
   ]
  },
  {
   "cell_type": "markdown",
   "metadata": {},
   "source": [
    "Modal forces from each unitary load\n",
    "---"
   ]
  },
  {
   "cell_type": "code",
   "execution_count": null,
   "metadata": {},
   "outputs": [],
   "source": [
    "f1 = P.T @ Linv @ F1\n",
    "f2 = P.T @ Linv @ F2\n",
    "f3 = P.T @ Linv @ F3"
   ]
  },
  {
   "cell_type": "code",
   "execution_count": null,
   "metadata": {},
   "outputs": [],
   "source": []
  },
  {
   "cell_type": "markdown",
   "metadata": {},
   "source": [
    "Transfer function\n",
    "---"
   ]
  },
  {
   "cell_type": "code",
   "execution_count": null,
   "metadata": {},
   "outputs": [],
   "source": [
    "def Hi_steady_state(omegas, omegans, zetas, fi):\n",
    "    \"\"\" based on modal frequency response analysis\n",
    "    (sinusoidal load)\n",
    "    \"\"\"\n",
    "    omegas = np.atleast_1d(omegas)\n",
    "    r = np.zeros((num_modes, len(omegas)), dtype=np.complex128)\n",
    "    for k in range(num_modes):\n",
    "        H_modal = np.atleast_1d(1/(-omegas**2 + 2*zetas[k]*1j*omegas*omegans[k] + omegans[k]**2))\n",
    "        r[k] = fi[k] * H_modal\n",
    "    return r\n",
    "\n",
    "\n",
    "def Hi_transient(omegas, omegans, zetas, fi):\n",
    "    \"\"\" based on the particular solution for frequency domain\n",
    "    \"\"\"\n",
    "    omegas = np.atleast_1d(omegas)\n",
    "    r = np.zeros((num_modes, len(omegas)), dtype=np.complex128)\n",
    "    for k in range(num_modes):\n",
    "        H_modal = np.atleast_1d(((omegans[k]**2 - omegas**2) - 1j*(2*zetas[k]*omegans[k]*omegas))/((omegans[k]**2 - omegas**2)**2 + (2*zetas[k]*omegans[k]*omegas)**2))\n",
    "        r[k] = fi[k] * H_modal\n",
    "    return r\n",
    "\n",
    "Hi = Hi_transient"
   ]
  },
  {
   "cell_type": "markdown",
   "metadata": {},
   "source": [
    "Cross-power spectrum densities (CSD) of two random load sources\n",
    "---\n",
    "Applying the PSD loads according to the consistent DOFs\n",
    "---\n"
   ]
  },
  {
   "cell_type": "code",
   "execution_count": null,
   "metadata": {},
   "outputs": [],
   "source": [
    "import matplotlib.mlab as mlab\n",
    "\n",
    "num_loads = 3\n",
    "\n",
    "tmax = 40\n",
    "Ntime = 2**14\n",
    "# NOTE random load oscillation with the amplitudes given below\n",
    "ampl1 = 10 # [N m]\n",
    "ampl2 = 10 # [N m]\n",
    "ampl3 = 1e4 # [Pa]\n",
    "\n",
    "t = np.linspace(0, tmax, Ntime)\n",
    "dt = t[1] - t[0]\n",
    "Fs = 1/dt\n",
    "\n",
    "# random loading histories in time domain\n",
    "w1_t = ampl1*(2*np.random.rand(Ntime) - 1)\n",
    "w2_t = ampl2*(2*np.random.rand(Ntime) - 1)\n",
    "w3_t = ampl3*(2*np.random.rand(Ntime) - 1)\n",
    "wi = [w1_t, w2_t, w3_t]\n",
    "\n",
    "# random loading CSD matrix\n",
    "window = np.ones(Ntime)\n",
    "Nfreq = Ntime//2 + 1\n",
    "Wij = np.zeros((num_loads, num_loads, Nfreq), dtype=np.complex128)\n",
    "for i in range(num_loads):\n",
    "    for j in range(num_loads):\n",
    "        Wij[i, j], freqs_Hz = mlab.csd(wi[i], wi[j], NFFT=Ntime, Fs=Fs, detrend='none', scale_by_freq=False, sides='onesided', window=window)\n",
    "        # NOTE freqs_Hz herein obtained is identical to as np.fft.rfftfreq(Ntime, dt)     \n"
   ]
  },
  {
   "cell_type": "markdown",
   "metadata": {},
   "source": [
    "Calculating the displacement PSD\n",
    "---"
   ]
  },
  {
   "cell_type": "code",
   "execution_count": null,
   "metadata": {
    "scrolled": false
   },
   "outputs": [],
   "source": [
    "r = np.zeros((num_modes, Nfreq), dtype=np.complex128)\n",
    "zetas = 0.02*np.ones_like(omegans)\n",
    "fa = [f1, f2, f3]\n",
    "freqs_rad = freqs_Hz/2/pi\n",
    "for i in range(num_loads):\n",
    "    for j in range(num_loads):\n",
    "        Ha = Hi(freqs_rad, omegans, zetas, fa[i])\n",
    "        Hb = Hi(freqs_rad, omegans, zetas, fa[j])\n",
    "        r = r + (Ha * np.conj(Hb) * Wij[i, j])\n",
    "U = Linv.T @ P @ r"
   ]
  },
  {
   "cell_type": "markdown",
   "metadata": {},
   "source": [
    "Calculating the stress PSD (sigmaxx for all elements)\n",
    "---"
   ]
  },
  {
   "cell_type": "code",
   "execution_count": null,
   "metadata": {},
   "outputs": [],
   "source": [
    "xy = ncoords[:, :2]\n",
    "\n",
    "Nxx = np.zeros((len(quads), Nfreq), dtype=np.complex128)\n",
    "\n",
    "for i, quad in enumerate(quads):\n",
    "    Nxx_quad, Nyy_quad, Nxy_quad, Mxx_quad, Myy_quad, Mxy_quad, Qx_quad, Qy_quad = calc_stress(quad, U, nid_pos, xy, xi=0.0, eta=0.0)\n",
    "    Nxx[i] = Nxx_quad + Mxx_quad*thickness/2\n",
    "    \n",
    "sigmaxx = Nxx/thickness\n",
    "# sigmayy = Nyy/thickness\n",
    "\n",
    "# NOTE one should move forward from this point using Von Mises stresses corrected for the phase difference\n",
    "#      I am simply using the absolute of sigmaxx"
   ]
  },
  {
   "cell_type": "markdown",
   "metadata": {},
   "source": [
    "Plotting the stress PSD\n",
    "---"
   ]
  },
  {
   "cell_type": "code",
   "execution_count": null,
   "metadata": {},
   "outputs": [],
   "source": [
    "import matplotlib.pyplot as plt\n",
    "import matplotlib\n",
    "matplotlib.rcParams['font.size'] = 14\n",
    "\n",
    "plt.figure(figsize=(15, 8))\n",
    "plt.plot(freqs_Hz/2/pi, np.max(np.abs(sigmaxx), axis=0))\n",
    "plt.xlabel('frequency [Hz]')\n",
    "plt.ylabel('$\\sigma_{xx}$ stress PSD, max value amongst all elements')\n",
    "plt.xlim(0, 30)\n",
    "\n"
   ]
  },
  {
   "cell_type": "markdown",
   "metadata": {},
   "source": [
    "Stress PSD moments (all elements)\n",
    "---"
   ]
  },
  {
   "cell_type": "code",
   "execution_count": null,
   "metadata": {
    "scrolled": true
   },
   "outputs": [],
   "source": [
    "PSD = sigmaxx\n",
    "def moment(n):\n",
    "    f = freqs_Hz\n",
    "    f0 = f[:-1]\n",
    "    f1 = f[1:]\n",
    "    s0 = PSD[:, :-1]\n",
    "    s1 = PSD[:, 1:]\n",
    "    m = ((f0 + f1) / 2) ** n * ((s0 + s1) / 2) * (f1 - f0)\n",
    "    return m.sum(axis=1)\n",
    "\n",
    "m0 = moment(0)\n",
    "m1 = moment(1)\n",
    "m2 = moment(2)\n",
    "m4 = moment(4)\n"
   ]
  },
  {
   "cell_type": "markdown",
   "metadata": {},
   "source": [
    "Counting method for random PSD\n",
    "===\n"
   ]
  },
  {
   "cell_type": "markdown",
   "metadata": {},
   "source": [
    "Stress levels\n",
    "---"
   ]
  },
  {
   "cell_type": "code",
   "execution_count": null,
   "metadata": {},
   "outputs": [],
   "source": [
    "num_stress_levels = 100\n",
    "\n",
    "# NOTE defining bins at which damage will be calculated\n",
    "#      this range should be in accordance with the expected S-N curve of the material\n",
    "S_Pa = np.linspace(100e6, 400e6, num_stress_levels)\n",
    "S_MPa = S_Pa/1e6"
   ]
  },
  {
   "cell_type": "markdown",
   "metadata": {},
   "source": [
    "Fatigue life for different stress levels\n",
    "---\n",
    "See DOI: http://dx.doi.org/10.1002/mawe.200800282\n",
    "\n",
    "$\\log_{10} N_{fail} = A - B \\log_{10} \\left( K_t^E S \\left( 2 - \\frac{2 S_m}{S} \\right)^C - D\\right)$\n",
    "\n",
    "Note that we can assume that:\n",
    "- $K_t = 1$ given that the stresses are determined from a detailed geometric model.\n",
    "- $S_m = 0$ given that the random vibration happens around a null mean stress.\n"
   ]
  },
  {
   "cell_type": "code",
   "execution_count": null,
   "metadata": {
    "scrolled": true
   },
   "outputs": [],
   "source": [
    "# Parameters A,B,C,D,E for an Aluminium 2024-T3 sheet\n",
    "# NOTE the stress values should be given in units of MPa\n",
    "A = 12.81011\n",
    "B = 3.35997\n",
    "C = 0.67782\n",
    "D = 158.9626\n",
    "E = 0.75416\n",
    "\n",
    "kt = 1\n",
    "Sm = 0\n",
    "\n",
    "Nfail = 10**(A - B*np.log10(kt**E*S_MPa*(2 - 2*Sm/S_MPa)**C - D))\n",
    "plt.plot(Nfail, S_MPa, 'o', mfc='none')\n",
    "plt.ylabel('Maximum stress, S [MPa]')\n",
    "plt.xlabel('Cycles to failure, $N_{fail}$')\n",
    "plt.xscale('log')\n",
    "plt.show()"
   ]
  },
  {
   "cell_type": "markdown",
   "metadata": {},
   "source": [
    "Probability density function for the random stress (pS)\n",
    "---"
   ]
  },
  {
   "cell_type": "code",
   "execution_count": null,
   "metadata": {
    "scrolled": false
   },
   "outputs": [],
   "source": [
    "E0 = np.sqrt(m2 / m0) # expected number of zeros\n",
    "EP = np.sqrt(m4 / m2) # expected number of peaks per second\n",
    "gamma = E0/EP # irregularity factor\n",
    "\n",
    "xm = (m1 / m0) * np.sqrt(m2 / m4)\n",
    "D1 = 2 * (xm - gamma**2) / (1 + gamma**2)\n",
    "R = (gamma - xm - D1 **2) / (1 - gamma - D1 + D1**2)\n",
    "D2 = (1 - gamma - D1 + D1**2) / (1 - R)\n",
    "D3 = 1 - D1 - D2\n",
    "Q = 1.25 * (gamma - D3 - D2 * R) / D1\n",
    "\n",
    "Z = S_Pa / (2 * np.sqrt(m0[:, None]))\n",
    "\n",
    "\n",
    "pS = (( D1[:, None] / Q[:, None]) * np.exp(-Z / Q[:, None])\n",
    "    + (D2[:, None] * Z / (R[:, None])**2) * np.exp(-Z**2 / (2 * (R[:, None])**2))\n",
    "    +  D3[:, None] * Z * np.exp(-Z**2 / 2)) / (2 * np.sqrt(m0[:, None]))\n"
   ]
  },
  {
   "cell_type": "markdown",
   "metadata": {},
   "source": [
    "Plotting the probability density function\n",
    "---"
   ]
  },
  {
   "cell_type": "code",
   "execution_count": null,
   "metadata": {
    "scrolled": true
   },
   "outputs": [],
   "source": [
    "plt.plot(S_MPa, pS.max(axis=0))\n",
    "plt.xlabel('Maximum stress, S [MPa]')\n",
    "plt.ylabel('pS')"
   ]
  },
  {
   "cell_type": "markdown",
   "metadata": {},
   "source": [
    "Calculating damage for the time of exposure to this random vibration\n",
    "---"
   ]
  },
  {
   "cell_type": "code",
   "execution_count": null,
   "metadata": {
    "scrolled": true
   },
   "outputs": [],
   "source": [
    "damage = EP * tmax * np.trapz(pS/Nfail, S_Pa, axis=1)\n",
    "plt.figure(figsize=(15, 8))\n",
    "plt.plot(damage.real)\n",
    "plt.xlabel('Element')\n",
    "plt.ylabel('damage for the random vibration happening during tmax')\n"
   ]
  },
  {
   "cell_type": "code",
   "execution_count": null,
   "metadata": {},
   "outputs": [],
   "source": [
    "xplot = np.asarray(cg_elem)[:, 0]\n",
    "yplot = np.asarray(cg_elem)[:, 1]\n",
    "\n",
    "fig = plt.figure(figsize=(15, 10))\n",
    "ax = plt.gca()\n",
    "c = ax.contourf(xplot.reshape(nx-1, ny-1), yplot.reshape(nx-1, ny-1), damage.real.reshape(nx-1, ny-1))\n",
    "plt.colorbar(c)\n",
    "ax.set_aspect('equal')\n",
    "plt.show()\n"
   ]
  },
  {
   "cell_type": "code",
   "execution_count": null,
   "metadata": {},
   "outputs": [],
   "source": []
  }
 ],
 "metadata": {
  "kernelspec": {
   "display_name": "Python 3",
   "language": "python",
   "name": "python3"
  },
  "language_info": {
   "codemirror_mode": {
    "name": "ipython",
    "version": 3
   },
   "file_extension": ".py",
   "mimetype": "text/x-python",
   "name": "python",
   "nbconvert_exporter": "python",
   "pygments_lexer": "ipython3",
   "version": "3.7.9"
  }
 },
 "nbformat": 4,
 "nbformat_minor": 4
}
