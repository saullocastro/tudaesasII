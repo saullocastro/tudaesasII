{
 "cells": [
  {
   "cell_type": "code",
   "execution_count": null,
   "metadata": {},
   "outputs": [],
   "source": [
    "import numpy as np\n",
    "from numpy import cos, sin, pi\n",
    "from scipy import signal\n",
    "import matplotlib.pyplot as plt\n",
    "import matplotlib\n",
    "matplotlib.rcParams['figure.figsize'] = [10, 6]\n",
    "matplotlib.rcParams['lines.linewidth'] = 2\n",
    "\n",
    "tmax = 1\n",
    "N = 2**15\n",
    "t = np.linspace(0, tmax, N)\n",
    "dt = t[1] - t[0]\n",
    "\n",
    "wnx = 20 # Hz\n",
    "wny = 10 # Hz\n",
    "A = 11.\n",
    "B = 7.\n",
    "x = A*sin(wnx*2*pi*t)\n",
    "y = B*sin(wny*2*pi*t)\n",
    "\n",
    "freqs = np.fft.rfftfreq(N, dt)\n",
    "xf = np.fft.rfft(x, n=N)/(N//2)\n",
    "yf = np.fft.rfft(y, n=N)/(N//2)"
   ]
  },
  {
   "cell_type": "code",
   "execution_count": null,
   "metadata": {},
   "outputs": [],
   "source": [
    "fig, axes = plt.subplots(ncols=2, figsize=(12, 4))\n",
    "axes[0].set_xlim(0, 1)\n",
    "axes[1].set_xlim(0, 1)\n",
    "axes[0].plot(t, x)\n",
    "axes[0].set_xlabel('time [s]')\n",
    "axes[0].set_ylabel('x(t)')\n",
    "plt.subplots_adjust(wspace=1) \n",
    "axes[1].plot(t, y)\n",
    "axes[1].set_xlabel('time [s]')\n",
    "axes[1].set_ylabel('y(t)')"
   ]
  },
  {
   "cell_type": "code",
   "execution_count": null,
   "metadata": {},
   "outputs": [],
   "source": [
    "fig, axes = plt.subplots(ncols=2)\n",
    "axes[0].set_xlim(0, 30)\n",
    "axes[1].set_xlim(0, 30)\n",
    "axes[0].plot(freqs, np.abs(xf))\n",
    "axes[0].set_xlabel('Hz')\n",
    "axes[0].set_ylabel('[units of x / Hz]')\n",
    "axes[1].plot(freqs, np.abs(yf))\n",
    "axes[1].set_xlabel('Hz')\n",
    "axes[1].set_ylabel('[units of y / Hz]')\n",
    "print('x amplitude', A)\n",
    "print('y amplitude', B)"
   ]
  },
  {
   "cell_type": "markdown",
   "metadata": {},
   "source": [
    "Power spectral density Pxx\n",
    "---"
   ]
  },
  {
   "cell_type": "code",
   "execution_count": null,
   "metadata": {},
   "outputs": [],
   "source": [
    "pxx = np.conj(xf)*xf \n",
    "plt.plot(freqs, np.abs(pxx))\n",
    "plt.ylabel('Pxx, [units of x]**2 / Hz')\n",
    "plt.xlabel('Hz')\n",
    "plt.xlim(0, 30)\n",
    "\n",
    "print('recovered ampl', np.abs(pxx).max()**0.5)\n"
   ]
  },
  {
   "cell_type": "markdown",
   "metadata": {},
   "source": [
    "Power spectral density Pyy\n",
    "---"
   ]
  },
  {
   "cell_type": "code",
   "execution_count": null,
   "metadata": {},
   "outputs": [],
   "source": [
    "yf = np.fft.rfft(y, n=N)/(N//2)\n",
    "pyy = np.conj(yf)*yf\n",
    "plt.plot(freqs, np.abs(pyy))\n",
    "plt.ylabel('Pyy, [units of y]**2 / Hz')\n",
    "plt.xlabel('Hz')\n",
    "plt.xlim(0, 30)\n",
    "print('recovered ampl', np.abs(pyy).max()**0.5)\n"
   ]
  },
  {
   "cell_type": "markdown",
   "metadata": {},
   "source": [
    "Cross spectral density\n",
    "---"
   ]
  },
  {
   "cell_type": "code",
   "execution_count": null,
   "metadata": {},
   "outputs": [],
   "source": [
    "pxy = np.conj(xf)*yf\n",
    "pyx = np.conj(yf)*xf\n",
    "plt.plot(freqs, np.abs(pxy))\n",
    "plt.plot(freqs, np.abs(pxy), ':')\n",
    "plt.ylabel('Pxy and Pyx, V**2 / Hz')\n",
    "plt.xlabel('Hz')\n",
    "plt.xlim(0, 30)\n",
    "np.allclose(pxy, pyx)"
   ]
  },
  {
   "cell_type": "markdown",
   "metadata": {},
   "source": [
    "Frequency Response Function (FRF)\n",
    "---"
   ]
  },
  {
   "cell_type": "code",
   "execution_count": null,
   "metadata": {},
   "outputs": [],
   "source": [
    "H = pxy/pxx\n",
    "plt.semilogy(freqs, np.abs(H))\n",
    "plt.ylabel('[units of y]/[units of x] / Hz')\n",
    "plt.xlabel('Hz')\n",
    "plt.title('FRF')\n",
    "plt.xlim(0, 30)"
   ]
  },
  {
   "cell_type": "markdown",
   "metadata": {},
   "source": [
    "Obtaining output signal in frequency domain\n",
    "---"
   ]
  },
  {
   "cell_type": "code",
   "execution_count": null,
   "metadata": {},
   "outputs": [],
   "source": [
    "fig, axes = plt.subplots(ncols=2, figsize=(10,4))\n",
    "axes[0].set_xlim(0, 30)\n",
    "axes[1].set_xlim(0, 30)\n",
    "axes[0].plot(freqs, np.abs(xf))\n",
    "axes[0].set_xlabel('Hz')\n",
    "axes[0].set_ylabel('[units of x / Hz]')\n",
    "axes[0].set_title('xf')\n",
    "axes[1].plot(freqs, np.abs(yf))\n",
    "axes[1].set_xlabel('Hz')\n",
    "axes[1].set_ylabel('[units of y / Hz]')\n",
    "axes[1].set_title('yf')"
   ]
  },
  {
   "cell_type": "code",
   "execution_count": null,
   "metadata": {
    "scrolled": false
   },
   "outputs": [],
   "source": [
    "yf_est = H*xf\n",
    "\n",
    "plt.plot(freqs, np.abs(yf_est))\n",
    "plt.xlim(0, 30)\n",
    "plt.xlabel('Hz')\n",
    "plt.ylabel('[units of y / Hz]')\n",
    "print('estimated amplitude', np.abs(yf_est).max())"
   ]
  },
  {
   "cell_type": "code",
   "execution_count": null,
   "metadata": {},
   "outputs": [],
   "source": [
    "y_est = np.fft.irfft(yf_est*(N//2))\n",
    "plt.plot(t, y_est)\n",
    "plt.plot(t, y, ':r')\n",
    "plt.xlabel('Time, [s]')\n",
    "plt.ylabel('y(t)')\n",
    "plt.xlim(0, 1)\n",
    "print('original and estimated amplitude')\n",
    "print(y.max(), y_est.max())\n",
    "print()\n",
    "print('original and estimated RMS')\n",
    "print((y**2).mean()**0.5, (y_est**2).mean()**0.5)"
   ]
  },
  {
   "cell_type": "code",
   "execution_count": null,
   "metadata": {},
   "outputs": [],
   "source": []
  }
 ],
 "metadata": {
  "kernelspec": {
   "display_name": "Python 3",
   "language": "python",
   "name": "python3"
  },
  "language_info": {
   "codemirror_mode": {
    "name": "ipython",
    "version": 3
   },
   "file_extension": ".py",
   "mimetype": "text/x-python",
   "name": "python",
   "nbconvert_exporter": "python",
   "pygments_lexer": "ipython3",
   "version": "3.7.9"
  }
 },
 "nbformat": 4,
 "nbformat_minor": 4
}
