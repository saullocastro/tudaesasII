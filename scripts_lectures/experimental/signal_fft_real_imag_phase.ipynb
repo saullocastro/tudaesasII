{
 "cells": [
  {
   "cell_type": "markdown",
   "metadata": {},
   "source": [
    "Sine signal\n",
    "==="
   ]
  },
  {
   "cell_type": "code",
   "execution_count": null,
   "metadata": {
    "scrolled": true
   },
   "outputs": [],
   "source": [
    "import numpy as np\n",
    "from numpy import cos, sin, pi\n",
    "import matplotlib.pyplot as plt\n",
    "import matplotlib\n",
    "matplotlib.rcParams['figure.figsize'] = [12, 6]\n",
    "\n",
    "tmax = 8\n",
    "time_steps = 2**16\n",
    "t = np.linspace(0, tmax, time_steps)\n",
    "dt = t[1] - t[0]\n",
    "N = t.size\n",
    "\n",
    "signal = 13*sin(2*(2*pi)*t + pi/2) + 7*sin(5*(2*pi)*t)\n",
    "\n",
    "plt.plot(t, signal)\n",
    "plt.xlabel('Time, [s]')\n",
    "plt.ylabel('signal(t) [units]')\n",
    "print('N =', N)"
   ]
  },
  {
   "cell_type": "markdown",
   "metadata": {},
   "source": [
    "Absolute value\n",
    "---"
   ]
  },
  {
   "cell_type": "code",
   "execution_count": null,
   "metadata": {},
   "outputs": [],
   "source": [
    "sf = np.fft.rfft(signal)[:N//2]/(N//2)\n",
    "freqs = np.fft.fftfreq(N, dt)[:N//2]\n",
    "plt.plot(freqs, np.abs(sf))\n",
    "plt.xlim(0, 10)\n",
    "print(sf.max())\n",
    "plt.xlabel('Freq, [Hz]')\n",
    "plt.ylabel('abs(signal) [units / Hz]')"
   ]
  },
  {
   "cell_type": "markdown",
   "metadata": {},
   "source": [
    "Real and Imaginary parts\n",
    "---"
   ]
  },
  {
   "cell_type": "code",
   "execution_count": null,
   "metadata": {},
   "outputs": [],
   "source": [
    "sf = np.fft.rfft(signal)[:N//2]/(N//2)\n",
    "freqs = np.fft.fftfreq(N, dt)[:N//2]\n",
    "plt.plot(freqs, sf.real)\n",
    "plt.xlabel('Freq, [Hz]')\n",
    "plt.ylabel('signal.real [units / Hz]')\n",
    "ax = plt.twinx()\n",
    "ax.plot(freqs, sf.imag, 'r')\n",
    "ax.set_ylabel('signal.imag [units / Hz]', color='red')\n",
    "ax.set_xlim(0, 10)"
   ]
  },
  {
   "cell_type": "markdown",
   "metadata": {},
   "source": [
    "Phase plots\n",
    "---"
   ]
  },
  {
   "cell_type": "code",
   "execution_count": null,
   "metadata": {},
   "outputs": [],
   "source": [
    "sf = np.fft.rfft(signal)[:N//2]/(N//2)\n",
    "freqs = np.fft.fftfreq(N, dt)[:N//2]\n",
    "plt.plot(freqs[:N//2], np.abs(sf))\n",
    "plt.xlabel('Freq, [Hz]')\n",
    "plt.ylabel('absolute [units / Hz]')\n",
    "ax = plt.twinx()\n",
    "\n",
    "# detect noise (very small numbers (eps)) and ignore them\n",
    "threshold = np.max(np.abs(sf))/1000 # tolerance threshold\n",
    "X2 = sf.copy()\n",
    "X2[np.abs(sf) < threshold] = 0+0j # maskout values that are below the threshold\n",
    "ax.plot(freqs, np.arctan2(X2.imag, X2.real), 'r-')\n",
    "ax.set_ylabel('Phase [rad]', color='red')\n",
    "ax.set_yticks([-pi, -pi/2, 0, pi/2, pi])\n",
    "ax.set_yticklabels(['-$\\pi$', '-$\\pi/2$', '$0$', '+$\\pi/2$', '+$\\pi$'])\n",
    "ax.set_xlim(0, 20)"
   ]
  },
  {
   "cell_type": "markdown",
   "metadata": {},
   "source": [
    "---\n",
    "---\n",
    "\n",
    "Sine and Cosine Signal\n",
    "==="
   ]
  },
  {
   "cell_type": "code",
   "execution_count": null,
   "metadata": {},
   "outputs": [],
   "source": [
    "signal = 13*cos(2*(2*pi)*t) + 7*sin(5*(2*pi)*t) + 13*cos(9*(2*pi)*t)\n",
    "plt.plot(t, signal)\n",
    "plt.xlabel('Time, [s]')\n",
    "plt.ylabel('signal(t) [units]')"
   ]
  },
  {
   "cell_type": "markdown",
   "metadata": {},
   "source": [
    "Absolute value\n",
    "---"
   ]
  },
  {
   "cell_type": "code",
   "execution_count": null,
   "metadata": {},
   "outputs": [],
   "source": [
    "sf = np.fft.rfft(signal)[:N//2]/(N//2)\n",
    "freqs = np.fft.fftfreq(N, dt)[:N//2]\n",
    "plt.plot(freqs, np.abs(sf))\n",
    "plt.xlabel('Freq, [Hz]')\n",
    "plt.ylabel('abs(signal) [units / Hz]')\n",
    "plt.xlim(0, 10)"
   ]
  },
  {
   "cell_type": "markdown",
   "metadata": {},
   "source": [
    "Real and Imaginary parts\n",
    "---"
   ]
  },
  {
   "cell_type": "code",
   "execution_count": null,
   "metadata": {},
   "outputs": [],
   "source": [
    "sf = np.fft.rfft(signal)[:N//2]/(N//2)\n",
    "freqs = np.fft.fftfreq(N, dt)[:N//2]\n",
    "plt.plot(freqs, sf.real)\n",
    "plt.xlabel('Freq, [Hz]')\n",
    "plt.ylabel('signal.real [units / Hz]')\n",
    "ax = plt.twinx()\n",
    "ax.plot(freqs, sf.imag, 'r')\n",
    "ax.set_ylabel('signal.imag [units / Hz]', color='red')\n",
    "\n",
    "ax.set_xlim(0, 10)"
   ]
  },
  {
   "cell_type": "markdown",
   "metadata": {},
   "source": [
    "Phase plots\n",
    "---"
   ]
  },
  {
   "cell_type": "code",
   "execution_count": null,
   "metadata": {},
   "outputs": [],
   "source": [
    "sf = np.fft.rfft(signal)[:N//2]/(N//2)\n",
    "freqs = np.fft.fftfreq(N, dt)[:N//2]\n",
    "plt.plot(freqs, np.abs(sf))\n",
    "plt.xlabel('Freq, [Hz]')\n",
    "plt.ylabel('abs(signal) [units / Hz]')\n",
    "ax = plt.twinx()\n",
    "\n",
    "# detect noise (very small numbers (eps)) and ignore them\n",
    "threshold = np.max(np.abs(sf))/100 # tolerance threshold\n",
    "X2 = sf.copy()\n",
    "X2[np.abs(sf) < threshold] = 0+0j # maskout values that are below the threshold\n",
    "ax.plot(freqs, np.arctan2(X2.imag, X2.real), 'r-')\n",
    "ax.set_ylabel('Phase [rad]', color='red')\n",
    "ax.set_yticks([-pi, -pi/2, 0, pi/2, pi])\n",
    "ax.set_yticklabels(['-$\\pi$', '-$\\pi/2$', '$0$', '+$\\pi/2$', '+$\\pi$'])\n",
    "ax.set_xlim(0, 20)"
   ]
  },
  {
   "cell_type": "code",
   "execution_count": null,
   "metadata": {},
   "outputs": [],
   "source": []
  }
 ],
 "metadata": {
  "kernelspec": {
   "display_name": "Python 3",
   "language": "python",
   "name": "python3"
  },
  "language_info": {
   "codemirror_mode": {
    "name": "ipython",
    "version": 3
   },
   "file_extension": ".py",
   "mimetype": "text/x-python",
   "name": "python",
   "nbconvert_exporter": "python",
   "pygments_lexer": "ipython3",
   "version": "3.7.9"
  }
 },
 "nbformat": 4,
 "nbformat_minor": 4
}
